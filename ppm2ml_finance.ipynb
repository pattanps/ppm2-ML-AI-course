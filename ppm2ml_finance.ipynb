{
  "nbformat": 4,
  "nbformat_minor": 0,
  "metadata": {
    "colab": {
      "provenance": [],
      "authorship_tag": "ABX9TyMPtHuIxjaygRkTG2P1Pumq",
      "include_colab_link": true
    },
    "kernelspec": {
      "name": "python3",
      "display_name": "Python 3"
    },
    "language_info": {
      "name": "python"
    }
  },
  "cells": [
    {
      "cell_type": "markdown",
      "metadata": {
        "id": "view-in-github",
        "colab_type": "text"
      },
      "source": [
        "<a href=\"https://colab.research.google.com/github/pattanps/ppm2-ML-AI-course/blob/main/ppm2ml_finance.ipynb\" target=\"_parent\"><img src=\"https://colab.research.google.com/assets/colab-badge.svg\" alt=\"Open In Colab\"/></a>"
      ]
    },
    {
      "cell_type": "markdown",
      "source": [
        "# Supervisor Learning\n",
        "## 1. Import data [นำข้อมูลเข้า]\n",
        "## 2. Preprocessing data, data wrangling [จัดการสิ่งรบกวน].\n",
        "## 3. Choose a mathematical model [Classification: Random forest]\n",
        "## 4. Train, Learning [ร่ำเรียน, ฝึกฝน]\n",
        "## 5. Evaluation [วิเคราะห์]\n",
        "## 6. Decision [ตัดสินใจ]\n"
      ],
      "metadata": {
        "id": "u1VBlwCT0OLR"
      }
    },
    {
      "cell_type": "code",
      "source": [
        "#install important libraries\n",
        "\n",
        "# Pandas\n",
        "# yfinance\n",
        "! pip install yfinance "
      ],
      "metadata": {
        "colab": {
          "base_uri": "https://localhost:8080/"
        },
        "id": "iLQKJ1Tj6UlY",
        "outputId": "df4a782e-ab59-4962-b21d-6fae4e9bc86a"
      },
      "execution_count": 2,
      "outputs": [
        {
          "output_type": "stream",
          "name": "stdout",
          "text": [
            "Looking in indexes: https://pypi.org/simple, https://us-python.pkg.dev/colab-wheels/public/simple/\n",
            "Collecting yfinance\n",
            "  Downloading yfinance-0.1.87-py2.py3-none-any.whl (29 kB)\n",
            "Requirement already satisfied: lxml>=4.5.1 in /usr/local/lib/python3.8/dist-packages (from yfinance) (4.9.1)\n",
            "Requirement already satisfied: pandas>=0.24.0 in /usr/local/lib/python3.8/dist-packages (from yfinance) (1.3.5)\n",
            "Requirement already satisfied: appdirs>=1.4.4 in /usr/local/lib/python3.8/dist-packages (from yfinance) (1.4.4)\n",
            "Requirement already satisfied: multitasking>=0.0.7 in /usr/local/lib/python3.8/dist-packages (from yfinance) (0.0.11)\n",
            "Requirement already satisfied: numpy>=1.15 in /usr/local/lib/python3.8/dist-packages (from yfinance) (1.21.6)\n",
            "Collecting requests>=2.26\n",
            "  Downloading requests-2.28.1-py3-none-any.whl (62 kB)\n",
            "\u001b[K     |████████████████████████████████| 62 kB 741 kB/s \n",
            "\u001b[?25hRequirement already satisfied: python-dateutil>=2.7.3 in /usr/local/lib/python3.8/dist-packages (from pandas>=0.24.0->yfinance) (2.8.2)\n",
            "Requirement already satisfied: pytz>=2017.3 in /usr/local/lib/python3.8/dist-packages (from pandas>=0.24.0->yfinance) (2022.6)\n",
            "Requirement already satisfied: six>=1.5 in /usr/local/lib/python3.8/dist-packages (from python-dateutil>=2.7.3->pandas>=0.24.0->yfinance) (1.15.0)\n",
            "Requirement already satisfied: idna<4,>=2.5 in /usr/local/lib/python3.8/dist-packages (from requests>=2.26->yfinance) (2.10)\n",
            "Requirement already satisfied: certifi>=2017.4.17 in /usr/local/lib/python3.8/dist-packages (from requests>=2.26->yfinance) (2022.9.24)\n",
            "Requirement already satisfied: urllib3<1.27,>=1.21.1 in /usr/local/lib/python3.8/dist-packages (from requests>=2.26->yfinance) (1.24.3)\n",
            "Requirement already satisfied: charset-normalizer<3,>=2 in /usr/local/lib/python3.8/dist-packages (from requests>=2.26->yfinance) (2.1.1)\n",
            "Installing collected packages: requests, yfinance\n",
            "  Attempting uninstall: requests\n",
            "    Found existing installation: requests 2.23.0\n",
            "    Uninstalling requests-2.23.0:\n",
            "      Successfully uninstalled requests-2.23.0\n",
            "Successfully installed requests-2.28.1 yfinance-0.1.87\n"
          ]
        }
      ]
    },
    {
      "cell_type": "code",
      "source": [
        "import yfinance as yf\n",
        "ethusd = yf.Ticker(\"ETH-USD\")\n",
        "fdata = ethusd.history(period=\"max\")\n",
        "\n",
        "fdata.head()"
      ],
      "metadata": {
        "colab": {
          "base_uri": "https://localhost:8080/",
          "height": 238
        },
        "id": "IGBhdFmT7A_g",
        "outputId": "0528871e-ade5-454d-f945-60c71b3e14fc"
      },
      "execution_count": 3,
      "outputs": [
        {
          "output_type": "execute_result",
          "data": {
            "text/plain": [
              "                                 Open        High         Low       Close  \\\n",
              "Date                                                                        \n",
              "2017-11-09 00:00:00+00:00  308.644989  329.451996  307.056000  320.884003   \n",
              "2017-11-10 00:00:00+00:00  320.670990  324.717987  294.541992  299.252991   \n",
              "2017-11-11 00:00:00+00:00  298.585999  319.453003  298.191986  314.681000   \n",
              "2017-11-12 00:00:00+00:00  314.690002  319.153015  298.513000  307.907990   \n",
              "2017-11-13 00:00:00+00:00  307.024994  328.415009  307.024994  316.716003   \n",
              "\n",
              "                               Volume  Dividends  Stock Splits  \n",
              "Date                                                            \n",
              "2017-11-09 00:00:00+00:00   893249984          0             0  \n",
              "2017-11-10 00:00:00+00:00   885985984          0             0  \n",
              "2017-11-11 00:00:00+00:00   842300992          0             0  \n",
              "2017-11-12 00:00:00+00:00  1613479936          0             0  \n",
              "2017-11-13 00:00:00+00:00  1041889984          0             0  "
            ],
            "text/html": [
              "\n",
              "  <div id=\"df-b0a2db32-c9f0-4644-aee7-c79207f28dc2\">\n",
              "    <div class=\"colab-df-container\">\n",
              "      <div>\n",
              "<style scoped>\n",
              "    .dataframe tbody tr th:only-of-type {\n",
              "        vertical-align: middle;\n",
              "    }\n",
              "\n",
              "    .dataframe tbody tr th {\n",
              "        vertical-align: top;\n",
              "    }\n",
              "\n",
              "    .dataframe thead th {\n",
              "        text-align: right;\n",
              "    }\n",
              "</style>\n",
              "<table border=\"1\" class=\"dataframe\">\n",
              "  <thead>\n",
              "    <tr style=\"text-align: right;\">\n",
              "      <th></th>\n",
              "      <th>Open</th>\n",
              "      <th>High</th>\n",
              "      <th>Low</th>\n",
              "      <th>Close</th>\n",
              "      <th>Volume</th>\n",
              "      <th>Dividends</th>\n",
              "      <th>Stock Splits</th>\n",
              "    </tr>\n",
              "    <tr>\n",
              "      <th>Date</th>\n",
              "      <th></th>\n",
              "      <th></th>\n",
              "      <th></th>\n",
              "      <th></th>\n",
              "      <th></th>\n",
              "      <th></th>\n",
              "      <th></th>\n",
              "    </tr>\n",
              "  </thead>\n",
              "  <tbody>\n",
              "    <tr>\n",
              "      <th>2017-11-09 00:00:00+00:00</th>\n",
              "      <td>308.644989</td>\n",
              "      <td>329.451996</td>\n",
              "      <td>307.056000</td>\n",
              "      <td>320.884003</td>\n",
              "      <td>893249984</td>\n",
              "      <td>0</td>\n",
              "      <td>0</td>\n",
              "    </tr>\n",
              "    <tr>\n",
              "      <th>2017-11-10 00:00:00+00:00</th>\n",
              "      <td>320.670990</td>\n",
              "      <td>324.717987</td>\n",
              "      <td>294.541992</td>\n",
              "      <td>299.252991</td>\n",
              "      <td>885985984</td>\n",
              "      <td>0</td>\n",
              "      <td>0</td>\n",
              "    </tr>\n",
              "    <tr>\n",
              "      <th>2017-11-11 00:00:00+00:00</th>\n",
              "      <td>298.585999</td>\n",
              "      <td>319.453003</td>\n",
              "      <td>298.191986</td>\n",
              "      <td>314.681000</td>\n",
              "      <td>842300992</td>\n",
              "      <td>0</td>\n",
              "      <td>0</td>\n",
              "    </tr>\n",
              "    <tr>\n",
              "      <th>2017-11-12 00:00:00+00:00</th>\n",
              "      <td>314.690002</td>\n",
              "      <td>319.153015</td>\n",
              "      <td>298.513000</td>\n",
              "      <td>307.907990</td>\n",
              "      <td>1613479936</td>\n",
              "      <td>0</td>\n",
              "      <td>0</td>\n",
              "    </tr>\n",
              "    <tr>\n",
              "      <th>2017-11-13 00:00:00+00:00</th>\n",
              "      <td>307.024994</td>\n",
              "      <td>328.415009</td>\n",
              "      <td>307.024994</td>\n",
              "      <td>316.716003</td>\n",
              "      <td>1041889984</td>\n",
              "      <td>0</td>\n",
              "      <td>0</td>\n",
              "    </tr>\n",
              "  </tbody>\n",
              "</table>\n",
              "</div>\n",
              "      <button class=\"colab-df-convert\" onclick=\"convertToInteractive('df-b0a2db32-c9f0-4644-aee7-c79207f28dc2')\"\n",
              "              title=\"Convert this dataframe to an interactive table.\"\n",
              "              style=\"display:none;\">\n",
              "        \n",
              "  <svg xmlns=\"http://www.w3.org/2000/svg\" height=\"24px\"viewBox=\"0 0 24 24\"\n",
              "       width=\"24px\">\n",
              "    <path d=\"M0 0h24v24H0V0z\" fill=\"none\"/>\n",
              "    <path d=\"M18.56 5.44l.94 2.06.94-2.06 2.06-.94-2.06-.94-.94-2.06-.94 2.06-2.06.94zm-11 1L8.5 8.5l.94-2.06 2.06-.94-2.06-.94L8.5 2.5l-.94 2.06-2.06.94zm10 10l.94 2.06.94-2.06 2.06-.94-2.06-.94-.94-2.06-.94 2.06-2.06.94z\"/><path d=\"M17.41 7.96l-1.37-1.37c-.4-.4-.92-.59-1.43-.59-.52 0-1.04.2-1.43.59L10.3 9.45l-7.72 7.72c-.78.78-.78 2.05 0 2.83L4 21.41c.39.39.9.59 1.41.59.51 0 1.02-.2 1.41-.59l7.78-7.78 2.81-2.81c.8-.78.8-2.07 0-2.86zM5.41 20L4 18.59l7.72-7.72 1.47 1.35L5.41 20z\"/>\n",
              "  </svg>\n",
              "      </button>\n",
              "      \n",
              "  <style>\n",
              "    .colab-df-container {\n",
              "      display:flex;\n",
              "      flex-wrap:wrap;\n",
              "      gap: 12px;\n",
              "    }\n",
              "\n",
              "    .colab-df-convert {\n",
              "      background-color: #E8F0FE;\n",
              "      border: none;\n",
              "      border-radius: 50%;\n",
              "      cursor: pointer;\n",
              "      display: none;\n",
              "      fill: #1967D2;\n",
              "      height: 32px;\n",
              "      padding: 0 0 0 0;\n",
              "      width: 32px;\n",
              "    }\n",
              "\n",
              "    .colab-df-convert:hover {\n",
              "      background-color: #E2EBFA;\n",
              "      box-shadow: 0px 1px 2px rgba(60, 64, 67, 0.3), 0px 1px 3px 1px rgba(60, 64, 67, 0.15);\n",
              "      fill: #174EA6;\n",
              "    }\n",
              "\n",
              "    [theme=dark] .colab-df-convert {\n",
              "      background-color: #3B4455;\n",
              "      fill: #D2E3FC;\n",
              "    }\n",
              "\n",
              "    [theme=dark] .colab-df-convert:hover {\n",
              "      background-color: #434B5C;\n",
              "      box-shadow: 0px 1px 3px 1px rgba(0, 0, 0, 0.15);\n",
              "      filter: drop-shadow(0px 1px 2px rgba(0, 0, 0, 0.3));\n",
              "      fill: #FFFFFF;\n",
              "    }\n",
              "  </style>\n",
              "\n",
              "      <script>\n",
              "        const buttonEl =\n",
              "          document.querySelector('#df-b0a2db32-c9f0-4644-aee7-c79207f28dc2 button.colab-df-convert');\n",
              "        buttonEl.style.display =\n",
              "          google.colab.kernel.accessAllowed ? 'block' : 'none';\n",
              "\n",
              "        async function convertToInteractive(key) {\n",
              "          const element = document.querySelector('#df-b0a2db32-c9f0-4644-aee7-c79207f28dc2');\n",
              "          const dataTable =\n",
              "            await google.colab.kernel.invokeFunction('convertToInteractive',\n",
              "                                                     [key], {});\n",
              "          if (!dataTable) return;\n",
              "\n",
              "          const docLinkHtml = 'Like what you see? Visit the ' +\n",
              "            '<a target=\"_blank\" href=https://colab.research.google.com/notebooks/data_table.ipynb>data table notebook</a>'\n",
              "            + ' to learn more about interactive tables.';\n",
              "          element.innerHTML = '';\n",
              "          dataTable['output_type'] = 'display_data';\n",
              "          await google.colab.output.renderOutput(dataTable, element);\n",
              "          const docLink = document.createElement('div');\n",
              "          docLink.innerHTML = docLinkHtml;\n",
              "          element.appendChild(docLink);\n",
              "        }\n",
              "      </script>\n",
              "    </div>\n",
              "  </div>\n",
              "  "
            ]
          },
          "metadata": {},
          "execution_count": 3
        }
      ]
    },
    {
      "cell_type": "code",
      "source": [
        "# เพิ่มแถวข้อมูล\n",
        "# 1. moving average period 20\n",
        "# 2. moving average period 100\n",
        "# 3. Standard variation\n",
        "\n",
        "# 1. moving average period 20\n",
        "fdata[\"MovingAverage 20\"]= fdata['Close'].rolling(20).mean()\n",
        "fdata[\"MovingAverage 100\"]= fdata['Close'].rolling(100).mean()\n",
        "# เพิ่ม moving average 200 \n",
        "# หาขนาด ความผันผวน Volatility "
      ],
      "metadata": {
        "id": "fNUTRGQJ7K-6"
      },
      "execution_count": 4,
      "outputs": []
    },
    {
      "cell_type": "code",
      "source": [
        "fdata[100:120]"
      ],
      "metadata": {
        "colab": {
          "base_uri": "https://localhost:8080/",
          "height": 708
        },
        "id": "TaEZaksY7MUj",
        "outputId": "04382b2e-6336-4cad-a823-0832b9392c76"
      },
      "execution_count": 14,
      "outputs": [
        {
          "output_type": "execute_result",
          "data": {
            "text/plain": [
              "                                 Open        High         Low       Close  \\\n",
              "Date                                                                        \n",
              "2018-02-17 00:00:00+00:00  944.747986  976.594971  940.754028  974.114990   \n",
              "2018-02-18 00:00:00+00:00  973.348999  982.932983  915.445007  923.921021   \n",
              "2018-02-19 00:00:00+00:00  921.668030  957.776978  921.554016  943.864990   \n",
              "2018-02-20 00:00:00+00:00  943.567017  965.265015  892.953979  895.370972   \n",
              "2018-02-21 00:00:00+00:00  894.135010  912.375000  830.562988  849.971008   \n",
              "2018-02-22 00:00:00+00:00  849.262024  875.926025  802.668030  812.844971   \n",
              "2018-02-23 00:00:00+00:00  811.585022  886.317993  794.791016  864.189026   \n",
              "2018-02-24 00:00:00+00:00  861.593018  879.531006  818.549988  840.515015   \n",
              "2018-02-25 00:00:00+00:00  839.458984  853.145996  822.380981  844.809998   \n",
              "2018-02-26 00:00:00+00:00  845.278015  880.392029  842.318970  869.315002   \n",
              "2018-02-27 00:00:00+00:00  870.364990  896.258972  867.096985  878.265015   \n",
              "2018-02-28 00:00:00+00:00  877.934021  890.107971  855.124023  855.198975   \n",
              "2018-03-01 00:00:00+00:00  856.012024  880.302002  851.919983  872.200012   \n",
              "2018-03-02 00:00:00+00:00  871.763977  876.377991  852.421997  856.853027   \n",
              "2018-03-03 00:00:00+00:00  856.710999  868.453979  855.206970  857.224976   \n",
              "2018-03-04 00:00:00+00:00  856.185974  867.950012  840.280029  866.677979   \n",
              "2018-03-05 00:00:00+00:00  866.846008  869.919983  853.520020  853.684021   \n",
              "2018-03-06 00:00:00+00:00  853.817017  853.817017  809.931030  816.950989   \n",
              "2018-03-07 00:00:00+00:00  816.270996  825.606995  726.546997  752.830994   \n",
              "2018-03-08 00:00:00+00:00  752.570007  773.767029  696.169006  704.596008   \n",
              "\n",
              "                               Volume  Dividends  Stock Splits  \\\n",
              "Date                                                             \n",
              "2018-02-17 00:00:00+00:00  2525720064          0             0   \n",
              "2018-02-18 00:00:00+00:00  2567290112          0             0   \n",
              "2018-02-19 00:00:00+00:00  2169019904          0             0   \n",
              "2018-02-20 00:00:00+00:00  2545260032          0             0   \n",
              "2018-02-21 00:00:00+00:00  2531729920          0             0   \n",
              "2018-02-22 00:00:00+00:00  2150370048          0             0   \n",
              "2018-02-23 00:00:00+00:00  2334820096          0             0   \n",
              "2018-02-24 00:00:00+00:00  1926579968          0             0   \n",
              "2018-02-25 00:00:00+00:00  1646960000          0             0   \n",
              "2018-02-26 00:00:00+00:00  2044480000          0             0   \n",
              "2018-02-27 00:00:00+00:00  2053980032          0             0   \n",
              "2018-02-28 00:00:00+00:00  1963980032          0             0   \n",
              "2018-03-01 00:00:00+00:00  1868519936          0             0   \n",
              "2018-03-02 00:00:00+00:00  1894419968          0             0   \n",
              "2018-03-03 00:00:00+00:00  1699369984          0             0   \n",
              "2018-03-04 00:00:00+00:00  1697939968          0             0   \n",
              "2018-03-05 00:00:00+00:00  1898489984          0             0   \n",
              "2018-03-06 00:00:00+00:00  1943069952          0             0   \n",
              "2018-03-07 00:00:00+00:00  2175419904          0             0   \n",
              "2018-03-08 00:00:00+00:00  1891640064          0             0   \n",
              "\n",
              "                           MovingAverage 20  MovingAverage 100  \n",
              "Date                                                            \n",
              "2018-02-17 00:00:00+00:00        912.039548         769.617271  \n",
              "2018-02-18 00:00:00+00:00        899.117599         775.863951  \n",
              "2018-02-19 00:00:00+00:00        892.754349         782.155791  \n",
              "2018-02-20 00:00:00+00:00        881.607394         788.030421  \n",
              "2018-02-21 00:00:00+00:00        872.266443         793.362971  \n",
              "2018-02-22 00:00:00+00:00        867.119443         798.115110  \n",
              "2018-02-23 00:00:00+00:00        862.127945         803.423431  \n",
              "2018-02-24 00:00:00+00:00        862.419595         808.519341  \n",
              "2018-02-25 00:00:00+00:00        869.762546         813.643501  \n",
              "2018-02-26 00:00:00+00:00        873.572195         818.860531  \n",
              "2018-02-27 00:00:00+00:00        879.632047         824.099321  \n",
              "2018-02-28 00:00:00+00:00        881.501645         828.984011  \n",
              "2018-03-01 00:00:00+00:00        880.918396         834.102001  \n",
              "2018-03-02 00:00:00+00:00        880.740298         838.864011  \n",
              "2018-03-03 00:00:00+00:00        882.868549         843.334601  \n",
              "2018-03-04 00:00:00+00:00        882.767099         847.252271  \n",
              "2018-03-05 00:00:00+00:00        883.188400         851.126351  \n",
              "2018-03-06 00:00:00+00:00        877.857901         854.582561  \n",
              "2018-03-07 00:00:00+00:00        868.650650         857.307321  \n",
              "2018-03-08 00:00:00+00:00        856.669949         859.624261  "
            ],
            "text/html": [
              "\n",
              "  <div id=\"df-aa30c7da-635d-47e6-8da1-e9a7f2e37346\">\n",
              "    <div class=\"colab-df-container\">\n",
              "      <div>\n",
              "<style scoped>\n",
              "    .dataframe tbody tr th:only-of-type {\n",
              "        vertical-align: middle;\n",
              "    }\n",
              "\n",
              "    .dataframe tbody tr th {\n",
              "        vertical-align: top;\n",
              "    }\n",
              "\n",
              "    .dataframe thead th {\n",
              "        text-align: right;\n",
              "    }\n",
              "</style>\n",
              "<table border=\"1\" class=\"dataframe\">\n",
              "  <thead>\n",
              "    <tr style=\"text-align: right;\">\n",
              "      <th></th>\n",
              "      <th>Open</th>\n",
              "      <th>High</th>\n",
              "      <th>Low</th>\n",
              "      <th>Close</th>\n",
              "      <th>Volume</th>\n",
              "      <th>Dividends</th>\n",
              "      <th>Stock Splits</th>\n",
              "      <th>MovingAverage 20</th>\n",
              "      <th>MovingAverage 100</th>\n",
              "    </tr>\n",
              "    <tr>\n",
              "      <th>Date</th>\n",
              "      <th></th>\n",
              "      <th></th>\n",
              "      <th></th>\n",
              "      <th></th>\n",
              "      <th></th>\n",
              "      <th></th>\n",
              "      <th></th>\n",
              "      <th></th>\n",
              "      <th></th>\n",
              "    </tr>\n",
              "  </thead>\n",
              "  <tbody>\n",
              "    <tr>\n",
              "      <th>2018-02-17 00:00:00+00:00</th>\n",
              "      <td>944.747986</td>\n",
              "      <td>976.594971</td>\n",
              "      <td>940.754028</td>\n",
              "      <td>974.114990</td>\n",
              "      <td>2525720064</td>\n",
              "      <td>0</td>\n",
              "      <td>0</td>\n",
              "      <td>912.039548</td>\n",
              "      <td>769.617271</td>\n",
              "    </tr>\n",
              "    <tr>\n",
              "      <th>2018-02-18 00:00:00+00:00</th>\n",
              "      <td>973.348999</td>\n",
              "      <td>982.932983</td>\n",
              "      <td>915.445007</td>\n",
              "      <td>923.921021</td>\n",
              "      <td>2567290112</td>\n",
              "      <td>0</td>\n",
              "      <td>0</td>\n",
              "      <td>899.117599</td>\n",
              "      <td>775.863951</td>\n",
              "    </tr>\n",
              "    <tr>\n",
              "      <th>2018-02-19 00:00:00+00:00</th>\n",
              "      <td>921.668030</td>\n",
              "      <td>957.776978</td>\n",
              "      <td>921.554016</td>\n",
              "      <td>943.864990</td>\n",
              "      <td>2169019904</td>\n",
              "      <td>0</td>\n",
              "      <td>0</td>\n",
              "      <td>892.754349</td>\n",
              "      <td>782.155791</td>\n",
              "    </tr>\n",
              "    <tr>\n",
              "      <th>2018-02-20 00:00:00+00:00</th>\n",
              "      <td>943.567017</td>\n",
              "      <td>965.265015</td>\n",
              "      <td>892.953979</td>\n",
              "      <td>895.370972</td>\n",
              "      <td>2545260032</td>\n",
              "      <td>0</td>\n",
              "      <td>0</td>\n",
              "      <td>881.607394</td>\n",
              "      <td>788.030421</td>\n",
              "    </tr>\n",
              "    <tr>\n",
              "      <th>2018-02-21 00:00:00+00:00</th>\n",
              "      <td>894.135010</td>\n",
              "      <td>912.375000</td>\n",
              "      <td>830.562988</td>\n",
              "      <td>849.971008</td>\n",
              "      <td>2531729920</td>\n",
              "      <td>0</td>\n",
              "      <td>0</td>\n",
              "      <td>872.266443</td>\n",
              "      <td>793.362971</td>\n",
              "    </tr>\n",
              "    <tr>\n",
              "      <th>2018-02-22 00:00:00+00:00</th>\n",
              "      <td>849.262024</td>\n",
              "      <td>875.926025</td>\n",
              "      <td>802.668030</td>\n",
              "      <td>812.844971</td>\n",
              "      <td>2150370048</td>\n",
              "      <td>0</td>\n",
              "      <td>0</td>\n",
              "      <td>867.119443</td>\n",
              "      <td>798.115110</td>\n",
              "    </tr>\n",
              "    <tr>\n",
              "      <th>2018-02-23 00:00:00+00:00</th>\n",
              "      <td>811.585022</td>\n",
              "      <td>886.317993</td>\n",
              "      <td>794.791016</td>\n",
              "      <td>864.189026</td>\n",
              "      <td>2334820096</td>\n",
              "      <td>0</td>\n",
              "      <td>0</td>\n",
              "      <td>862.127945</td>\n",
              "      <td>803.423431</td>\n",
              "    </tr>\n",
              "    <tr>\n",
              "      <th>2018-02-24 00:00:00+00:00</th>\n",
              "      <td>861.593018</td>\n",
              "      <td>879.531006</td>\n",
              "      <td>818.549988</td>\n",
              "      <td>840.515015</td>\n",
              "      <td>1926579968</td>\n",
              "      <td>0</td>\n",
              "      <td>0</td>\n",
              "      <td>862.419595</td>\n",
              "      <td>808.519341</td>\n",
              "    </tr>\n",
              "    <tr>\n",
              "      <th>2018-02-25 00:00:00+00:00</th>\n",
              "      <td>839.458984</td>\n",
              "      <td>853.145996</td>\n",
              "      <td>822.380981</td>\n",
              "      <td>844.809998</td>\n",
              "      <td>1646960000</td>\n",
              "      <td>0</td>\n",
              "      <td>0</td>\n",
              "      <td>869.762546</td>\n",
              "      <td>813.643501</td>\n",
              "    </tr>\n",
              "    <tr>\n",
              "      <th>2018-02-26 00:00:00+00:00</th>\n",
              "      <td>845.278015</td>\n",
              "      <td>880.392029</td>\n",
              "      <td>842.318970</td>\n",
              "      <td>869.315002</td>\n",
              "      <td>2044480000</td>\n",
              "      <td>0</td>\n",
              "      <td>0</td>\n",
              "      <td>873.572195</td>\n",
              "      <td>818.860531</td>\n",
              "    </tr>\n",
              "    <tr>\n",
              "      <th>2018-02-27 00:00:00+00:00</th>\n",
              "      <td>870.364990</td>\n",
              "      <td>896.258972</td>\n",
              "      <td>867.096985</td>\n",
              "      <td>878.265015</td>\n",
              "      <td>2053980032</td>\n",
              "      <td>0</td>\n",
              "      <td>0</td>\n",
              "      <td>879.632047</td>\n",
              "      <td>824.099321</td>\n",
              "    </tr>\n",
              "    <tr>\n",
              "      <th>2018-02-28 00:00:00+00:00</th>\n",
              "      <td>877.934021</td>\n",
              "      <td>890.107971</td>\n",
              "      <td>855.124023</td>\n",
              "      <td>855.198975</td>\n",
              "      <td>1963980032</td>\n",
              "      <td>0</td>\n",
              "      <td>0</td>\n",
              "      <td>881.501645</td>\n",
              "      <td>828.984011</td>\n",
              "    </tr>\n",
              "    <tr>\n",
              "      <th>2018-03-01 00:00:00+00:00</th>\n",
              "      <td>856.012024</td>\n",
              "      <td>880.302002</td>\n",
              "      <td>851.919983</td>\n",
              "      <td>872.200012</td>\n",
              "      <td>1868519936</td>\n",
              "      <td>0</td>\n",
              "      <td>0</td>\n",
              "      <td>880.918396</td>\n",
              "      <td>834.102001</td>\n",
              "    </tr>\n",
              "    <tr>\n",
              "      <th>2018-03-02 00:00:00+00:00</th>\n",
              "      <td>871.763977</td>\n",
              "      <td>876.377991</td>\n",
              "      <td>852.421997</td>\n",
              "      <td>856.853027</td>\n",
              "      <td>1894419968</td>\n",
              "      <td>0</td>\n",
              "      <td>0</td>\n",
              "      <td>880.740298</td>\n",
              "      <td>838.864011</td>\n",
              "    </tr>\n",
              "    <tr>\n",
              "      <th>2018-03-03 00:00:00+00:00</th>\n",
              "      <td>856.710999</td>\n",
              "      <td>868.453979</td>\n",
              "      <td>855.206970</td>\n",
              "      <td>857.224976</td>\n",
              "      <td>1699369984</td>\n",
              "      <td>0</td>\n",
              "      <td>0</td>\n",
              "      <td>882.868549</td>\n",
              "      <td>843.334601</td>\n",
              "    </tr>\n",
              "    <tr>\n",
              "      <th>2018-03-04 00:00:00+00:00</th>\n",
              "      <td>856.185974</td>\n",
              "      <td>867.950012</td>\n",
              "      <td>840.280029</td>\n",
              "      <td>866.677979</td>\n",
              "      <td>1697939968</td>\n",
              "      <td>0</td>\n",
              "      <td>0</td>\n",
              "      <td>882.767099</td>\n",
              "      <td>847.252271</td>\n",
              "    </tr>\n",
              "    <tr>\n",
              "      <th>2018-03-05 00:00:00+00:00</th>\n",
              "      <td>866.846008</td>\n",
              "      <td>869.919983</td>\n",
              "      <td>853.520020</td>\n",
              "      <td>853.684021</td>\n",
              "      <td>1898489984</td>\n",
              "      <td>0</td>\n",
              "      <td>0</td>\n",
              "      <td>883.188400</td>\n",
              "      <td>851.126351</td>\n",
              "    </tr>\n",
              "    <tr>\n",
              "      <th>2018-03-06 00:00:00+00:00</th>\n",
              "      <td>853.817017</td>\n",
              "      <td>853.817017</td>\n",
              "      <td>809.931030</td>\n",
              "      <td>816.950989</td>\n",
              "      <td>1943069952</td>\n",
              "      <td>0</td>\n",
              "      <td>0</td>\n",
              "      <td>877.857901</td>\n",
              "      <td>854.582561</td>\n",
              "    </tr>\n",
              "    <tr>\n",
              "      <th>2018-03-07 00:00:00+00:00</th>\n",
              "      <td>816.270996</td>\n",
              "      <td>825.606995</td>\n",
              "      <td>726.546997</td>\n",
              "      <td>752.830994</td>\n",
              "      <td>2175419904</td>\n",
              "      <td>0</td>\n",
              "      <td>0</td>\n",
              "      <td>868.650650</td>\n",
              "      <td>857.307321</td>\n",
              "    </tr>\n",
              "    <tr>\n",
              "      <th>2018-03-08 00:00:00+00:00</th>\n",
              "      <td>752.570007</td>\n",
              "      <td>773.767029</td>\n",
              "      <td>696.169006</td>\n",
              "      <td>704.596008</td>\n",
              "      <td>1891640064</td>\n",
              "      <td>0</td>\n",
              "      <td>0</td>\n",
              "      <td>856.669949</td>\n",
              "      <td>859.624261</td>\n",
              "    </tr>\n",
              "  </tbody>\n",
              "</table>\n",
              "</div>\n",
              "      <button class=\"colab-df-convert\" onclick=\"convertToInteractive('df-aa30c7da-635d-47e6-8da1-e9a7f2e37346')\"\n",
              "              title=\"Convert this dataframe to an interactive table.\"\n",
              "              style=\"display:none;\">\n",
              "        \n",
              "  <svg xmlns=\"http://www.w3.org/2000/svg\" height=\"24px\"viewBox=\"0 0 24 24\"\n",
              "       width=\"24px\">\n",
              "    <path d=\"M0 0h24v24H0V0z\" fill=\"none\"/>\n",
              "    <path d=\"M18.56 5.44l.94 2.06.94-2.06 2.06-.94-2.06-.94-.94-2.06-.94 2.06-2.06.94zm-11 1L8.5 8.5l.94-2.06 2.06-.94-2.06-.94L8.5 2.5l-.94 2.06-2.06.94zm10 10l.94 2.06.94-2.06 2.06-.94-2.06-.94-.94-2.06-.94 2.06-2.06.94z\"/><path d=\"M17.41 7.96l-1.37-1.37c-.4-.4-.92-.59-1.43-.59-.52 0-1.04.2-1.43.59L10.3 9.45l-7.72 7.72c-.78.78-.78 2.05 0 2.83L4 21.41c.39.39.9.59 1.41.59.51 0 1.02-.2 1.41-.59l7.78-7.78 2.81-2.81c.8-.78.8-2.07 0-2.86zM5.41 20L4 18.59l7.72-7.72 1.47 1.35L5.41 20z\"/>\n",
              "  </svg>\n",
              "      </button>\n",
              "      \n",
              "  <style>\n",
              "    .colab-df-container {\n",
              "      display:flex;\n",
              "      flex-wrap:wrap;\n",
              "      gap: 12px;\n",
              "    }\n",
              "\n",
              "    .colab-df-convert {\n",
              "      background-color: #E8F0FE;\n",
              "      border: none;\n",
              "      border-radius: 50%;\n",
              "      cursor: pointer;\n",
              "      display: none;\n",
              "      fill: #1967D2;\n",
              "      height: 32px;\n",
              "      padding: 0 0 0 0;\n",
              "      width: 32px;\n",
              "    }\n",
              "\n",
              "    .colab-df-convert:hover {\n",
              "      background-color: #E2EBFA;\n",
              "      box-shadow: 0px 1px 2px rgba(60, 64, 67, 0.3), 0px 1px 3px 1px rgba(60, 64, 67, 0.15);\n",
              "      fill: #174EA6;\n",
              "    }\n",
              "\n",
              "    [theme=dark] .colab-df-convert {\n",
              "      background-color: #3B4455;\n",
              "      fill: #D2E3FC;\n",
              "    }\n",
              "\n",
              "    [theme=dark] .colab-df-convert:hover {\n",
              "      background-color: #434B5C;\n",
              "      box-shadow: 0px 1px 3px 1px rgba(0, 0, 0, 0.15);\n",
              "      filter: drop-shadow(0px 1px 2px rgba(0, 0, 0, 0.3));\n",
              "      fill: #FFFFFF;\n",
              "    }\n",
              "  </style>\n",
              "\n",
              "      <script>\n",
              "        const buttonEl =\n",
              "          document.querySelector('#df-aa30c7da-635d-47e6-8da1-e9a7f2e37346 button.colab-df-convert');\n",
              "        buttonEl.style.display =\n",
              "          google.colab.kernel.accessAllowed ? 'block' : 'none';\n",
              "\n",
              "        async function convertToInteractive(key) {\n",
              "          const element = document.querySelector('#df-aa30c7da-635d-47e6-8da1-e9a7f2e37346');\n",
              "          const dataTable =\n",
              "            await google.colab.kernel.invokeFunction('convertToInteractive',\n",
              "                                                     [key], {});\n",
              "          if (!dataTable) return;\n",
              "\n",
              "          const docLinkHtml = 'Like what you see? Visit the ' +\n",
              "            '<a target=\"_blank\" href=https://colab.research.google.com/notebooks/data_table.ipynb>data table notebook</a>'\n",
              "            + ' to learn more about interactive tables.';\n",
              "          element.innerHTML = '';\n",
              "          dataTable['output_type'] = 'display_data';\n",
              "          await google.colab.output.renderOutput(dataTable, element);\n",
              "          const docLink = document.createElement('div');\n",
              "          docLink.innerHTML = docLinkHtml;\n",
              "          element.appendChild(docLink);\n",
              "        }\n",
              "      </script>\n",
              "    </div>\n",
              "  </div>\n",
              "  "
            ]
          },
          "metadata": {},
          "execution_count": 14
        }
      ]
    },
    {
      "cell_type": "code",
      "source": [
        "!pip install mplfinance"
      ],
      "metadata": {
        "colab": {
          "base_uri": "https://localhost:8080/"
        },
        "id": "RqaOVrj98bxJ",
        "outputId": "ce6ca18f-8edc-4c18-cf2d-24906665be7e"
      },
      "execution_count": 16,
      "outputs": [
        {
          "output_type": "stream",
          "name": "stdout",
          "text": [
            "Looking in indexes: https://pypi.org/simple, https://us-python.pkg.dev/colab-wheels/public/simple/\n",
            "Collecting mplfinance\n",
            "  Downloading mplfinance-0.12.9b5-py3-none-any.whl (71 kB)\n",
            "\u001b[K     |████████████████████████████████| 71 kB 6.8 MB/s \n",
            "\u001b[?25hRequirement already satisfied: pandas in /usr/local/lib/python3.8/dist-packages (from mplfinance) (1.3.5)\n",
            "Requirement already satisfied: matplotlib in /usr/local/lib/python3.8/dist-packages (from mplfinance) (3.2.2)\n",
            "Requirement already satisfied: kiwisolver>=1.0.1 in /usr/local/lib/python3.8/dist-packages (from matplotlib->mplfinance) (1.4.4)\n",
            "Requirement already satisfied: pyparsing!=2.0.4,!=2.1.2,!=2.1.6,>=2.0.1 in /usr/local/lib/python3.8/dist-packages (from matplotlib->mplfinance) (3.0.9)\n",
            "Requirement already satisfied: cycler>=0.10 in /usr/local/lib/python3.8/dist-packages (from matplotlib->mplfinance) (0.11.0)\n",
            "Requirement already satisfied: python-dateutil>=2.1 in /usr/local/lib/python3.8/dist-packages (from matplotlib->mplfinance) (2.8.2)\n",
            "Requirement already satisfied: numpy>=1.11 in /usr/local/lib/python3.8/dist-packages (from matplotlib->mplfinance) (1.21.6)\n",
            "Requirement already satisfied: six>=1.5 in /usr/local/lib/python3.8/dist-packages (from python-dateutil>=2.1->matplotlib->mplfinance) (1.15.0)\n",
            "Requirement already satisfied: pytz>=2017.3 in /usr/local/lib/python3.8/dist-packages (from pandas->mplfinance) (2022.6)\n",
            "Installing collected packages: mplfinance\n",
            "Successfully installed mplfinance-0.12.9b5\n"
          ]
        }
      ]
    },
    {
      "cell_type": "code",
      "source": [
        "import mplfinance as mpf\n",
        "fdata.index.name = 'Date'\n",
        "\n",
        "mpf.plot(fdata[::-100],type='candle')"
      ],
      "metadata": {
        "colab": {
          "base_uri": "https://localhost:8080/",
          "height": 529
        },
        "id": "V-rbvl258_gE",
        "outputId": "e9a319c9-0022-4879-fcd2-4172a2944121"
      },
      "execution_count": 24,
      "outputs": [
        {
          "output_type": "display_data",
          "data": {
            "text/plain": [
              "<Figure size 800x575 with 2 Axes>"
            ],
            "image/png": "[encoded data removed]"
          },
          "metadata": {}
        }
      ]
    },
    {
      "cell_type": "code",
      "source": [
        "type(fdata)"
      ],
      "metadata": {
        "id": "UO1_rjBz9E9q",
        "colab": {
          "base_uri": "https://localhost:8080/"
        },
        "outputId": "d1baec5e-24ef-4179-9a5e-941e8b08c7c1"
      },
      "execution_count": 25,
      "outputs": [
        {
          "output_type": "execute_result",
          "data": {
            "text/plain": [
              "pandas.core.frame.DataFrame"
            ]
          },
          "metadata": {},
          "execution_count": 25
        }
      ]
    },
    {
      "cell_type": "code",
      "source": [
        "chart = fdata['Close'].plot(title=\"Close with MA\", label = \"Close\")\n",
        "fdata['MovingAverage 20'].plot(fig=chart, label = \"MA 20\")\n",
        "fdata['MovingAverage 100'].plot(fig=chart, label = \"MA 100\")\n",
        "chart.legend()"
      ],
      "metadata": {
        "colab": {
          "base_uri": "https://localhost:8080/",
          "height": 491
        },
        "id": "pw5UUj4BaTUH",
        "outputId": "94c5600e-95dd-4b62-ec52-961fd11e4ce4"
      },
      "execution_count": 39,
      "outputs": [
        {
          "output_type": "execute_result",
          "data": {
            "text/plain": [
              "<matplotlib.legend.Legend at 0x7ffb20564a90>"
            ]
          },
          "metadata": {},
          "execution_count": 39
        },
        {
          "output_type": "display_data",
          "data": {
            "text/plain": [
              "<Figure size 640x480 with 1 Axes>"
            ],
            "image/png": "[encoded data removed]"
          },
          "metadata": {}
        }
      ]
    },
    {
      "cell_type": "code",
      "source": [
        "# Install technical indicator for python"
      ],
      "metadata": {
        "id": "x38rWuk2aWcR"
      },
      "execution_count": 40,
      "outputs": []
    },
    {
      "cell_type": "code",
      "source": [
        "!pip install pandas_ta"
      ],
      "metadata": {
        "colab": {
          "base_uri": "https://localhost:8080/"
        },
        "id": "x1f2x9ddfUhs",
        "outputId": "c4a9633a-d562-4ef4-d082-fa17ea38c07b"
      },
      "execution_count": 42,
      "outputs": [
        {
          "output_type": "stream",
          "name": "stdout",
          "text": [
            "Looking in indexes: https://pypi.org/simple, https://us-python.pkg.dev/colab-wheels/public/simple/\n",
            "Collecting pandas_ta\n",
            "  Using cached pandas_ta-0.3.14b0-py3-none-any.whl\n",
            "Requirement already satisfied: pandas in /usr/local/lib/python3.8/dist-packages (from pandas_ta) (1.3.5)\n",
            "Requirement already satisfied: pytz>=2017.3 in /usr/local/lib/python3.8/dist-packages (from pandas->pandas_ta) (2022.6)\n",
            "Requirement already satisfied: numpy>=1.17.3 in /usr/local/lib/python3.8/dist-packages (from pandas->pandas_ta) (1.21.6)\n",
            "Requirement already satisfied: python-dateutil>=2.7.3 in /usr/local/lib/python3.8/dist-packages (from pandas->pandas_ta) (2.8.2)\n",
            "Requirement already satisfied: six>=1.5 in /usr/local/lib/python3.8/dist-packages (from python-dateutil>=2.7.3->pandas->pandas_ta) (1.15.0)\n",
            "Installing collected packages: pandas-ta\n",
            "Successfully installed pandas-ta-0.3.14b0\n"
          ]
        }
      ]
    },
    {
      "cell_type": "code",
      "source": [
        "import pandas_ta as ta\n",
        "\n",
        "tafdata = fdata.ta\n",
        "\n",
        "# create RSI data from fdata\n",
        "rsi = tafdata.rsi()\n",
        "\n",
        "rsi"
      ],
      "metadata": {
        "colab": {
          "base_uri": "https://localhost:8080/"
        },
        "id": "DekaX4y6faZD",
        "outputId": "f5d6e3cc-7710-42a6-a7b3-5943367f7d2e"
      },
      "execution_count": 57,
      "outputs": [
        {
          "output_type": "execute_result",
          "data": {
            "text/plain": [
              "Date\n",
              "2017-11-09 00:00:00+00:00          NaN\n",
              "2017-11-10 00:00:00+00:00          NaN\n",
              "2017-11-11 00:00:00+00:00          NaN\n",
              "2017-11-12 00:00:00+00:00          NaN\n",
              "2017-11-13 00:00:00+00:00          NaN\n",
              "                               ...    \n",
              "2022-12-03 00:00:00+00:00    48.242340\n",
              "2022-12-04 00:00:00+00:00    51.818349\n",
              "2022-12-05 00:00:00+00:00    49.754853\n",
              "2022-12-06 00:00:00+00:00    50.978344\n",
              "2022-12-07 00:00:00+00:00    48.982265\n",
              "Name: RSI_14, Length: 1855, dtype: float64"
            ]
          },
          "metadata": {},
          "execution_count": 57
        }
      ]
    },
    {
      "cell_type": "code",
      "source": [
        "rsi[::100].plot()"
      ],
      "metadata": {
        "colab": {
          "base_uri": "https://localhost:8080/",
          "height": 468
        },
        "id": "Dt5cGGhngJKA",
        "outputId": "fd7bf4b3-4e0a-46ca-ee32-87c81ee443b3"
      },
      "execution_count": 60,
      "outputs": [
        {
          "output_type": "execute_result",
          "data": {
            "text/plain": [
              "<matplotlib.axes._subplots.AxesSubplot at 0x7ffb2005e430>"
            ]
          },
          "metadata": {},
          "execution_count": 60
        },
        {
          "output_type": "display_data",
          "data": {
            "text/plain": [
              "<Figure size 640x480 with 1 Axes>"
            ],
            "image/png": "[encoded data removed]"
          },
          "metadata": {}
        }
      ]
    },
    {
      "cell_type": "code",
      "source": [],
      "metadata": {
        "id": "EbyCFFS_hKMg"
      },
      "execution_count": null,
      "outputs": []
    }
  ]
}